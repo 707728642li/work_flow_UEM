{
 "cells": [
  {
   "cell_type": "code",
   "execution_count": 2,
   "id": "bcd1ff71-a14f-4dad-89dd-e292aef98580",
   "metadata": {},
   "outputs": [],
   "source": [
    "# %load ./src/evaluation/evaluation_for_user_split.py\n",
    "import argparse\n",
    "import csv\n",
    "import os\n",
    "from os.path import join, dirname\n",
    "#import pandas as pd\n",
    "import numpy as np\n",
    "import time\n",
    "# from dotenv import load_dotenv\n",
    "from collections import defaultdict\n",
    "\n",
    "# import boto3\n",
    "import comet_ml\n",
    "import pyro\n",
    "import pyro.distributions as dist\n",
    "import torch\n",
    "# from botocore.exceptions import ClientError\n",
    "from comet_ml import api\n",
    "from tqdm import tqdm\n",
    "\n",
    "device = torch.device(\"cuda:1\" if torch.cuda.is_available() else \"cpu\")"
   ]
  },
  {
   "cell_type": "code",
   "execution_count": 3,
   "id": "84aabf16-8388-4fb1-b37e-30b9398cd856",
   "metadata": {},
   "outputs": [
    {
     "name": "stdout",
     "output_type": "stream",
     "text": [
      "CPU times: user 1.1 s, sys: 29.7 ms, total: 1.13 s\n",
      "Wall time: 1min 24s\n"
     ]
    }
   ],
   "source": [
    "%%time\n",
    "my_comet_api = dict(api_key=\"rAOeE45NqnekTXmKrqg0Do12C\",\n",
    "                project_name=\"test-for-pyro\",\n",
    "                workspace=\"707728642li\",)\n",
    "api_key = my_comet_api['api_key']\n",
    "workspace_name = my_comet_api['workspace']\n",
    "project_name = my_comet_api['project_name']\n",
    "\n",
    "# get experiments\n",
    "api_instance = api.API(api_key=api_key)\n",
    "q = ((api.Metric('duration') != None) & (api.Parameter('group_count') <= 15))\n",
    "exs = api_instance.query(workspace_name, project_name, q)\n",
    "# exs = [ ex for ex in exs if \"split_by_user\" in ex.get_tags()]\n",
    "# pkl_list = [i.split(\".\")[0] for i in os.listdir(\"./pkl_model/\") if i.endswith(\".pkl\")]\n",
    "# exs = [ ex for ex in exs if ex.id in pkl_list]\n"
   ]
  },
  {
   "cell_type": "code",
   "execution_count": 4,
   "id": "ba7ed93b-fa2a-4516-8278-589cded20b98",
   "metadata": {},
   "outputs": [
    {
     "data": {
      "text/plain": [
       "['0.2', 'attribute-Buda', 'filtered', 'split_by_time', 'yikun']"
      ]
     },
     "execution_count": 4,
     "metadata": {},
     "output_type": "execute_result"
    }
   ],
   "source": [
    "exs[0].get_tags()"
   ]
  },
  {
   "cell_type": "code",
   "execution_count": null,
   "id": "da3e15fe-0dc7-480e-a33b-ac9c282aa834",
   "metadata": {},
   "outputs": [],
   "source": []
  }
 ],
 "metadata": {
  "kernelspec": {
   "display_name": "Python 3",
   "language": "python",
   "name": "python3"
  },
  "language_info": {
   "codemirror_mode": {
    "name": "ipython",
    "version": 3
   },
   "file_extension": ".py",
   "mimetype": "text/x-python",
   "name": "python",
   "nbconvert_exporter": "python",
   "pygments_lexer": "ipython3",
   "version": "3.8.10"
  }
 },
 "nbformat": 4,
 "nbformat_minor": 5
}
